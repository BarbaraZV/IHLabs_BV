{
 "cells": [
  {
   "cell_type": "markdown",
   "id": "ca06c9c9",
   "metadata": {},
   "source": [
    "## User Experience"
   ]
  },
  {
   "cell_type": "markdown",
   "id": "8c9e1d3a",
   "metadata": {},
   "source": [
    "What happens if the user inputs a song that doesn't exist?\n",
    "1. <span class=\"girk\">get the song name from the user as an input</span>\n",
    "2. <span class=\"girk\">play the input song in music embed playe</span>r.\n",
    "3. <span class=\"girk\">get the audio features for that song from spotify API. using sp.audio_features(trackid) . pay attention to keep  only the audio features columns.</span>\n",
    "4. <span class=\"girk\">load the stabdardscaler using pickle and use it to scale the new song.</span>\n",
    "5. <span class=\"girk\">using mode.predict(new scaled audio record for the new song) to predict the cluster (label) for the new song.</span>\n",
    "6. return random song from the same cluster   that the new song belongs to from your data frame and suggest it to the user.\n",
    "7.  play it using embedded music player. (edited) \n",
    "\n",
    "<b> do a heatmap,with the most importants audiofeatures for every cluster."
   ]
  },
  {
   "cell_type": "markdown",
   "id": "d15156e1",
   "metadata": {},
   "source": [
    "# Importing libraries"
   ]
  },
  {
   "cell_type": "code",
   "execution_count": 89,
   "id": "16ba0bf5",
   "metadata": {},
   "outputs": [],
   "source": [
    "import numpy as np\n",
    "import pandas as pd\n",
    "import pickle\n",
    "from sklearn import datasets # sklearn comes with some toy datasets to practise\n",
    "from sklearn.preprocessing import StandardScaler\n",
    "from sklearn.cluster import KMeans\n",
    "from matplotlib import pyplot\n",
    "from sklearn.metrics import silhouette_score\n",
    "from csv import DictReader\n",
    "import random\n",
    "import spotipy\n",
    "import json\n",
    "from spotipy.oauth2 import SpotifyClientCredentials\n",
    "import config"
   ]
  },
  {
   "cell_type": "markdown",
   "id": "9fa53d51",
   "metadata": {},
   "source": [
    "## Starting Spotify API"
   ]
  },
  {
   "cell_type": "code",
   "execution_count": 90,
   "id": "10be0c89",
   "metadata": {},
   "outputs": [],
   "source": [
    "#Initialize SpotiPy with user credentias\n",
    "sp = spotipy.Spotify(auth_manager=SpotifyClientCredentials(client_id= config.c_id,\n",
    "                                                           client_secret= config.c_se))"
   ]
  },
  {
   "cell_type": "markdown",
   "id": "7993278f",
   "metadata": {},
   "source": [
    "## Loading Data Frame"
   ]
  },
  {
   "cell_type": "code",
   "execution_count": 91,
   "id": "bd7f0b36",
   "metadata": {},
   "outputs": [
    {
     "data": {
      "text/html": [
       "<div>\n",
       "<style scoped>\n",
       "    .dataframe tbody tr th:only-of-type {\n",
       "        vertical-align: middle;\n",
       "    }\n",
       "\n",
       "    .dataframe tbody tr th {\n",
       "        vertical-align: top;\n",
       "    }\n",
       "\n",
       "    .dataframe thead th {\n",
       "        text-align: right;\n",
       "    }\n",
       "</style>\n",
       "<table border=\"1\" class=\"dataframe\">\n",
       "  <thead>\n",
       "    <tr style=\"text-align: right;\">\n",
       "      <th></th>\n",
       "      <th>danceability</th>\n",
       "      <th>energy</th>\n",
       "      <th>key</th>\n",
       "      <th>loudness</th>\n",
       "      <th>mode</th>\n",
       "      <th>speechiness</th>\n",
       "      <th>acousticness</th>\n",
       "      <th>instrumentalness</th>\n",
       "      <th>liveness</th>\n",
       "      <th>valence</th>\n",
       "      <th>tempo</th>\n",
       "      <th>id</th>\n",
       "      <th>duration_ms</th>\n",
       "      <th>time_signature</th>\n",
       "      <th>cluster</th>\n",
       "    </tr>\n",
       "  </thead>\n",
       "  <tbody>\n",
       "    <tr>\n",
       "      <th>0</th>\n",
       "      <td>0.795</td>\n",
       "      <td>0.594</td>\n",
       "      <td>0</td>\n",
       "      <td>-6.200</td>\n",
       "      <td>1</td>\n",
       "      <td>0.0748</td>\n",
       "      <td>0.11200</td>\n",
       "      <td>0.000000</td>\n",
       "      <td>0.1620</td>\n",
       "      <td>0.409</td>\n",
       "      <td>135.002</td>\n",
       "      <td>0q75NwOoFiARAVp4EXU4Bs</td>\n",
       "      <td>275080</td>\n",
       "      <td>4</td>\n",
       "      <td>10</td>\n",
       "    </tr>\n",
       "    <tr>\n",
       "      <th>1</th>\n",
       "      <td>0.693</td>\n",
       "      <td>0.713</td>\n",
       "      <td>10</td>\n",
       "      <td>-4.489</td>\n",
       "      <td>0</td>\n",
       "      <td>0.3510</td>\n",
       "      <td>0.34300</td>\n",
       "      <td>0.000000</td>\n",
       "      <td>0.1020</td>\n",
       "      <td>0.615</td>\n",
       "      <td>137.335</td>\n",
       "      <td>593W4qZOwwdqF6YnimJjL6</td>\n",
       "      <td>266080</td>\n",
       "      <td>4</td>\n",
       "      <td>3</td>\n",
       "    </tr>\n",
       "    <tr>\n",
       "      <th>2</th>\n",
       "      <td>0.400</td>\n",
       "      <td>0.366</td>\n",
       "      <td>8</td>\n",
       "      <td>-9.405</td>\n",
       "      <td>0</td>\n",
       "      <td>0.0597</td>\n",
       "      <td>0.24200</td>\n",
       "      <td>0.000000</td>\n",
       "      <td>0.1260</td>\n",
       "      <td>0.161</td>\n",
       "      <td>73.313</td>\n",
       "      <td>6gU9OKjOE7ghfEd55oRO57</td>\n",
       "      <td>272187</td>\n",
       "      <td>3</td>\n",
       "      <td>4</td>\n",
       "    </tr>\n",
       "    <tr>\n",
       "      <th>3</th>\n",
       "      <td>0.543</td>\n",
       "      <td>0.644</td>\n",
       "      <td>1</td>\n",
       "      <td>-5.952</td>\n",
       "      <td>1</td>\n",
       "      <td>0.3330</td>\n",
       "      <td>0.11300</td>\n",
       "      <td>0.000000</td>\n",
       "      <td>0.0733</td>\n",
       "      <td>0.706</td>\n",
       "      <td>97.410</td>\n",
       "      <td>5wJL4o7k8m02m6ZM9KT0ir</td>\n",
       "      <td>227147</td>\n",
       "      <td>4</td>\n",
       "      <td>7</td>\n",
       "    </tr>\n",
       "    <tr>\n",
       "      <th>4</th>\n",
       "      <td>0.824</td>\n",
       "      <td>0.733</td>\n",
       "      <td>1</td>\n",
       "      <td>-5.474</td>\n",
       "      <td>1</td>\n",
       "      <td>0.0613</td>\n",
       "      <td>0.03620</td>\n",
       "      <td>0.000000</td>\n",
       "      <td>0.3250</td>\n",
       "      <td>0.395</td>\n",
       "      <td>97.972</td>\n",
       "      <td>7FYH5AW3bVfZHJIQpq3UOA</td>\n",
       "      <td>284387</td>\n",
       "      <td>4</td>\n",
       "      <td>10</td>\n",
       "    </tr>\n",
       "    <tr>\n",
       "      <th>...</th>\n",
       "      <td>...</td>\n",
       "      <td>...</td>\n",
       "      <td>...</td>\n",
       "      <td>...</td>\n",
       "      <td>...</td>\n",
       "      <td>...</td>\n",
       "      <td>...</td>\n",
       "      <td>...</td>\n",
       "      <td>...</td>\n",
       "      <td>...</td>\n",
       "      <td>...</td>\n",
       "      <td>...</td>\n",
       "      <td>...</td>\n",
       "      <td>...</td>\n",
       "      <td>...</td>\n",
       "    </tr>\n",
       "    <tr>\n",
       "      <th>5626</th>\n",
       "      <td>0.503</td>\n",
       "      <td>0.791</td>\n",
       "      <td>7</td>\n",
       "      <td>-5.177</td>\n",
       "      <td>1</td>\n",
       "      <td>0.0499</td>\n",
       "      <td>0.00241</td>\n",
       "      <td>0.000000</td>\n",
       "      <td>0.2980</td>\n",
       "      <td>0.417</td>\n",
       "      <td>173.921</td>\n",
       "      <td>4shULiz3P7luscRsQobtDN</td>\n",
       "      <td>166037</td>\n",
       "      <td>4</td>\n",
       "      <td>6</td>\n",
       "    </tr>\n",
       "    <tr>\n",
       "      <th>5627</th>\n",
       "      <td>0.511</td>\n",
       "      <td>0.766</td>\n",
       "      <td>4</td>\n",
       "      <td>-3.178</td>\n",
       "      <td>1</td>\n",
       "      <td>0.0740</td>\n",
       "      <td>0.01040</td>\n",
       "      <td>0.004790</td>\n",
       "      <td>0.3900</td>\n",
       "      <td>0.603</td>\n",
       "      <td>160.866</td>\n",
       "      <td>5f20q1GsH6sr5tD91jgbyP</td>\n",
       "      <td>159129</td>\n",
       "      <td>4</td>\n",
       "      <td>6</td>\n",
       "    </tr>\n",
       "    <tr>\n",
       "      <th>5628</th>\n",
       "      <td>0.799</td>\n",
       "      <td>0.653</td>\n",
       "      <td>2</td>\n",
       "      <td>-5.453</td>\n",
       "      <td>0</td>\n",
       "      <td>0.0370</td>\n",
       "      <td>0.01900</td>\n",
       "      <td>0.000000</td>\n",
       "      <td>0.0935</td>\n",
       "      <td>0.236</td>\n",
       "      <td>104.019</td>\n",
       "      <td>3vySEUpD0tc801F2WZDLYw</td>\n",
       "      <td>215281</td>\n",
       "      <td>4</td>\n",
       "      <td>0</td>\n",
       "    </tr>\n",
       "    <tr>\n",
       "      <th>5629</th>\n",
       "      <td>0.836</td>\n",
       "      <td>0.743</td>\n",
       "      <td>10</td>\n",
       "      <td>-6.305</td>\n",
       "      <td>0</td>\n",
       "      <td>0.0656</td>\n",
       "      <td>0.09950</td>\n",
       "      <td>0.000000</td>\n",
       "      <td>0.3350</td>\n",
       "      <td>0.722</td>\n",
       "      <td>108.966</td>\n",
       "      <td>1PckUlxKqWQs3RlWXVBLw3</td>\n",
       "      <td>191822</td>\n",
       "      <td>4</td>\n",
       "      <td>3</td>\n",
       "    </tr>\n",
       "    <tr>\n",
       "      <th>5630</th>\n",
       "      <td>0.723</td>\n",
       "      <td>0.772</td>\n",
       "      <td>1</td>\n",
       "      <td>-6.784</td>\n",
       "      <td>1</td>\n",
       "      <td>0.0792</td>\n",
       "      <td>0.00524</td>\n",
       "      <td>0.000012</td>\n",
       "      <td>0.3670</td>\n",
       "      <td>0.580</td>\n",
       "      <td>102.004</td>\n",
       "      <td>4cacyP5c3PMlfnyjpg13xW</td>\n",
       "      <td>146471</td>\n",
       "      <td>4</td>\n",
       "      <td>2</td>\n",
       "    </tr>\n",
       "  </tbody>\n",
       "</table>\n",
       "<p>5631 rows × 15 columns</p>\n",
       "</div>"
      ],
      "text/plain": [
       "      danceability  energy  key  loudness  mode  speechiness  acousticness  \\\n",
       "0            0.795   0.594    0    -6.200     1       0.0748       0.11200   \n",
       "1            0.693   0.713   10    -4.489     0       0.3510       0.34300   \n",
       "2            0.400   0.366    8    -9.405     0       0.0597       0.24200   \n",
       "3            0.543   0.644    1    -5.952     1       0.3330       0.11300   \n",
       "4            0.824   0.733    1    -5.474     1       0.0613       0.03620   \n",
       "...            ...     ...  ...       ...   ...          ...           ...   \n",
       "5626         0.503   0.791    7    -5.177     1       0.0499       0.00241   \n",
       "5627         0.511   0.766    4    -3.178     1       0.0740       0.01040   \n",
       "5628         0.799   0.653    2    -5.453     0       0.0370       0.01900   \n",
       "5629         0.836   0.743   10    -6.305     0       0.0656       0.09950   \n",
       "5630         0.723   0.772    1    -6.784     1       0.0792       0.00524   \n",
       "\n",
       "      instrumentalness  liveness  valence    tempo                      id  \\\n",
       "0             0.000000    0.1620    0.409  135.002  0q75NwOoFiARAVp4EXU4Bs   \n",
       "1             0.000000    0.1020    0.615  137.335  593W4qZOwwdqF6YnimJjL6   \n",
       "2             0.000000    0.1260    0.161   73.313  6gU9OKjOE7ghfEd55oRO57   \n",
       "3             0.000000    0.0733    0.706   97.410  5wJL4o7k8m02m6ZM9KT0ir   \n",
       "4             0.000000    0.3250    0.395   97.972  7FYH5AW3bVfZHJIQpq3UOA   \n",
       "...                ...       ...      ...      ...                     ...   \n",
       "5626          0.000000    0.2980    0.417  173.921  4shULiz3P7luscRsQobtDN   \n",
       "5627          0.004790    0.3900    0.603  160.866  5f20q1GsH6sr5tD91jgbyP   \n",
       "5628          0.000000    0.0935    0.236  104.019  3vySEUpD0tc801F2WZDLYw   \n",
       "5629          0.000000    0.3350    0.722  108.966  1PckUlxKqWQs3RlWXVBLw3   \n",
       "5630          0.000012    0.3670    0.580  102.004  4cacyP5c3PMlfnyjpg13xW   \n",
       "\n",
       "      duration_ms  time_signature  cluster  \n",
       "0          275080               4       10  \n",
       "1          266080               4        3  \n",
       "2          272187               3        4  \n",
       "3          227147               4        7  \n",
       "4          284387               4       10  \n",
       "...           ...             ...      ...  \n",
       "5626       166037               4        6  \n",
       "5627       159129               4        6  \n",
       "5628       215281               4        0  \n",
       "5629       191822               4        3  \n",
       "5630       146471               4        2  \n",
       "\n",
       "[5631 rows x 15 columns]"
      ]
     },
     "execution_count": 91,
     "metadata": {},
     "output_type": "execute_result"
    }
   ],
   "source": [
    "df_songs = pd.read_csv (r\"C:\\Users\\Barbara\\OneDrive\\Documents\\GitHub\\IHLabs_BV\\Week6\\audio_features_1.csv\")\n",
    "df_songs"
   ]
  },
  {
   "cell_type": "markdown",
   "id": "6835c046",
   "metadata": {},
   "source": [
    "## Getting the song name from user as an Input"
   ]
  },
  {
   "cell_type": "code",
   "execution_count": 239,
   "id": "7cd8258a",
   "metadata": {
    "run_control": {
     "marked": true
    }
   },
   "outputs": [
    {
     "name": "stdout",
     "output_type": "stream",
     "text": [
      "Please enter the song name : bad guy\n"
     ]
    }
   ],
   "source": [
    "#Collecting The Input As A Variable:#\n",
    "#nombre de la cancion, buscar el nombre en el df y tomr el id del track\n",
    "song_name = input('Please enter the song name : ') \n",
    "song_name = song_name.lower()\n",
    "results = sp.search(q=\"track:\"+song_name,limit = 3, market = \"US\") #to restrict to a song name and artist.\n",
    "# Where the \"q\" keyword is the query you want to perform on spotify: song_name, artist,...\n",
    "# while The \"limit\" keyword will limit the number of returned results."
   ]
  },
  {
   "cell_type": "code",
   "execution_count": 262,
   "id": "acd2e486",
   "metadata": {},
   "outputs": [
    {
     "name": "stdout",
     "output_type": "stream",
     "text": [
      "['Billie Eilish', 'Falling In Reverse', 'Bowling For Soup']\n",
      "Which artist do you want to listen: 1, 2 or 3?????  1\n"
     ]
    }
   ],
   "source": [
    "list_of_artists=[]\n",
    "for index in range(0,len(results[\"tracks\"][\"items\"])): \n",
    "    list_of_artists.append(results['tracks']['items'][index]['artists'][0]['name'])\n",
    "print(list_of_artists)\n",
    "choice_artist = input('Which artist do you want to listen: 1, 2 or 3?????  ')\n",
    "final_artist = results['tracks']['items'][int(choice_artist)-1]['artists'][0]['name']\n"
   ]
  },
  {
   "cell_type": "code",
   "execution_count": 263,
   "id": "69df1bbc",
   "metadata": {
    "run_control": {
     "marked": true
    }
   },
   "outputs": [],
   "source": [
    "track_id_json = sp.search(q=\"track:\"+song_name+\" artist:\"+final_artist,limit=1)\n",
    "track_id = track_id_json['tracks']['items'][0]['id']"
   ]
  },
  {
   "cell_type": "markdown",
   "id": "82dd50bb",
   "metadata": {},
   "source": [
    "##  Input song in music embed player"
   ]
  },
  {
   "cell_type": "code",
   "execution_count": 264,
   "id": "553be41f",
   "metadata": {},
   "outputs": [
    {
     "data": {
      "text/html": [
       "\n",
       "        <iframe\n",
       "            width=\"320\"\n",
       "            height=\"80\"\n",
       "            src=\"https://open.spotify.com/embed/track/2Fxmhks0bxGSBdJ92vM42m?frameborder=0&allowtransparency=true&allow=encrypted-media\"\n",
       "            frameborder=\"0\"\n",
       "            allowfullscreen\n",
       "            \n",
       "        ></iframe>\n",
       "        "
      ],
      "text/plain": [
       "<IPython.lib.display.IFrame at 0x2daecc1bc10>"
      ]
     },
     "execution_count": 264,
     "metadata": {},
     "output_type": "execute_result"
    }
   ],
   "source": [
    "from IPython.display import IFrame\n",
    "#track_id = \"1rfORa9iYmocEsnnZGMVC4\"\n",
    "\n",
    "IFrame(src=\"https://open.spotify.com/embed/track/\"+track_id,\n",
    "       width=\"320\",\n",
    "       height=\"80\",\n",
    "       frameborder=\"0\",\n",
    "       allowtransparency=\"true\",\n",
    "       allow=\"encrypted-media\",\n",
    "      )"
   ]
  },
  {
   "cell_type": "markdown",
   "id": "887bc85e",
   "metadata": {},
   "source": [
    "# Audio features for the user song from spotify API"
   ]
  },
  {
   "cell_type": "code",
   "execution_count": 273,
   "id": "e605c3e8",
   "metadata": {},
   "outputs": [],
   "source": [
    "df_input = pd.DataFrame(sp.audio_features(track_id))\n",
    "df_input = df_input.drop(['type', 'uri', 'track_href', 'analysis_url','id'], axis=1)"
   ]
  },
  {
   "cell_type": "markdown",
   "id": "73abd5ba",
   "metadata": {},
   "source": [
    "## load the standardscaler using pickle and use it to scale the new song."
   ]
  },
  {
   "cell_type": "code",
   "execution_count": 274,
   "id": "4742ac63",
   "metadata": {},
   "outputs": [],
   "source": [
    "def load_pickle(filename = \"file_name.pickle\"):\n",
    "    try:\n",
    "        with open(filename,\"rb\") as f:\n",
    "            return pickle.load(f)\n",
    "    except FileNotFoundError:\n",
    "        print(\"I don't find your file, sorry, try again!\")"
   ]
  },
  {
   "cell_type": "code",
   "execution_count": 275,
   "id": "7db50be5",
   "metadata": {},
   "outputs": [],
   "source": [
    "scaler = load_pickle(filename = r\"C:\\Users\\Barbara\\OneDrive\\Documents\\GitHub\\IHLabs_BV\\Week6\\scaler.pickle\" )\n",
    "model_kmeans = load_pickle(filename = r\"C:\\Users\\Barbara\\OneDrive\\Documents\\GitHub\\IHLabs_BV\\Week6\\kmeans.pickle\" )"
   ]
  },
  {
   "cell_type": "markdown",
   "id": "e71fc41a",
   "metadata": {},
   "source": [
    "## using mode.predict(new scaled audio record for the new song) to predict the cluster (label) for the new song."
   ]
  },
  {
   "cell_type": "code",
   "execution_count": 277,
   "id": "0f18b9ab",
   "metadata": {},
   "outputs": [],
   "source": [
    "columns = df_input.columns\n",
    "audio_features_scaled = scaler.transform(df_input)\n",
    "audio_features_scaled = pd.DataFrame(audio_features_scaled, columns= columns)\n",
    "labels = model_kmeans.predict(audio_features_scaled)"
   ]
  },
  {
   "cell_type": "markdown",
   "id": "b9621878",
   "metadata": {},
   "source": [
    "## return random song from the same cluster that the new song belongs to from your data frame and suggest it to the user"
   ]
  },
  {
   "cell_type": "code",
   "execution_count": 278,
   "id": "2fd030f3",
   "metadata": {},
   "outputs": [],
   "source": [
    "recommendation=df_songs[df_songs['cluster']==labels[0]].sample()\n",
    "track_id_recom = recommendation['id'].iloc[0]"
   ]
  },
  {
   "cell_type": "code",
   "execution_count": 279,
   "id": "bf36d2e8",
   "metadata": {},
   "outputs": [
    {
     "data": {
      "text/html": [
       "\n",
       "        <iframe\n",
       "            width=\"320\"\n",
       "            height=\"80\"\n",
       "            src=\"https://open.spotify.com/embed/track/1jo3TwNGCXfNdB5uba3ZVv?frameborder=0&allowtransparency=true&allow=encrypted-media\"\n",
       "            frameborder=\"0\"\n",
       "            allowfullscreen\n",
       "            \n",
       "        ></iframe>\n",
       "        "
      ],
      "text/plain": [
       "<IPython.lib.display.IFrame at 0x2daed9224c0>"
      ]
     },
     "execution_count": 279,
     "metadata": {},
     "output_type": "execute_result"
    }
   ],
   "source": [
    "from IPython.display import IFrame\n",
    "#track_id = \"1rfORa9iYmocEsnnZGMVC4\"\n",
    "IFrame(src=\"https://open.spotify.com/embed/track/\"+track_id_recom,\n",
    "       width=\"320\",\n",
    "       height=\"80\",\n",
    "       frameborder=\"0\",\n",
    "       allowtransparency=\"true\",\n",
    "       allow=\"encrypted-media\",\n",
    "      )"
   ]
  }
 ],
 "metadata": {
  "kernelspec": {
   "display_name": "Python 3 (ipykernel)",
   "language": "python",
   "name": "python3"
  },
  "language_info": {
   "codemirror_mode": {
    "name": "ipython",
    "version": 3
   },
   "file_extension": ".py",
   "mimetype": "text/x-python",
   "name": "python",
   "nbconvert_exporter": "python",
   "pygments_lexer": "ipython3",
   "version": "3.9.12"
  },
  "nbTranslate": {
   "displayLangs": [
    "*"
   ],
   "hotkey": "alt-t",
   "langInMainMenu": true,
   "sourceLang": "en",
   "targetLang": "fr",
   "useGoogleTranslate": true
  },
  "toc": {
   "base_numbering": 1,
   "nav_menu": {},
   "number_sections": true,
   "sideBar": true,
   "skip_h1_title": false,
   "title_cell": "Table of Contents",
   "title_sidebar": "Contents",
   "toc_cell": false,
   "toc_position": {},
   "toc_section_display": true,
   "toc_window_display": false
  },
  "varInspector": {
   "cols": {
    "lenName": 16,
    "lenType": 16,
    "lenVar": 40
   },
   "kernels_config": {
    "python": {
     "delete_cmd_postfix": "",
     "delete_cmd_prefix": "del ",
     "library": "var_list.py",
     "varRefreshCmd": "print(var_dic_list())"
    },
    "r": {
     "delete_cmd_postfix": ") ",
     "delete_cmd_prefix": "rm(",
     "library": "var_list.r",
     "varRefreshCmd": "cat(var_dic_list()) "
    }
   },
   "types_to_exclude": [
    "module",
    "function",
    "builtin_function_or_method",
    "instance",
    "_Feature"
   ],
   "window_display": false
  }
 },
 "nbformat": 4,
 "nbformat_minor": 5
}
