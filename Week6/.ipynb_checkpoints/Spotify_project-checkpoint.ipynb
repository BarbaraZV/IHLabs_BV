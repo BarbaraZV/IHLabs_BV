{
 "cells": [
  {
   "cell_type": "code",
   "execution_count": 1,
   "id": "4de905cc",
   "metadata": {},
   "outputs": [],
   "source": [
    "import config"
   ]
  },
  {
   "cell_type": "code",
   "execution_count": 6,
   "id": "c6b50467",
   "metadata": {},
   "outputs": [],
   "source": [
    "import spotipy\n",
    "from spotipy.oauth2 import SpotifyClientCredentials\n",
    "\n",
    "\n",
    "c_id = config.c_id\n",
    "c_se = config.c_se\n",
    "\n",
    "sp = spotipy.Spotify(auth_manager=SpotifyClientCredentials(client_id=c_id, client_secret=c_se))"
   ]
  },
  {
   "cell_type": "markdown",
   "id": "cc13a2ce",
   "metadata": {},
   "source": [
    "<html>\n",
    "<title>this is a title of the page</title>\n",
    "<body>\n",
    "    <h1> this is heading </h1>\n",
    "    <h2>this is a sub heading </h2>\n",
    "    <b>this is a bold text</b>     \n",
    "    <br>\n",
    "    <i>this is itallic text </i>\n",
    "    <a href =\"https://www.google.com\">Link </a>\n",
    "</body>\n",
    "</html>"
   ]
  },
  {
   "cell_type": "markdown",
   "id": "33468c8f",
   "metadata": {},
   "source": [
    "<html>\n",
    "<title>this is a title of the page</title>\n",
    "<body>\n",
    "    <h1>this is heading </h1>\n",
    "    <h2>this is sub heading </h2>\n",
    "    <b>this is bold text </b>\n",
    "    <br>\n",
    "    <i>this is italic text </i>\n",
    "    <br>\n",
    "    <a href=\"http://www.google.com\" id=\"google_link\"> Link </a>\n",
    "    <br>\n",
    "    <table>\n",
    "        <tr>\n",
    "            <th>first_name</th>\n",
    "            <th>last_name</th>\n",
    "            <th>salary</th>\n",
    "        </tr>\n",
    "        <tr>\n",
    "            <td>Barbara</td>\n",
    "            <td>vargas</td>\n",
    "            <td>1500000</td>\n",
    "        </tr>\n",
    "        <tr>\n",
    "            <td>Tomaaso</td>\n",
    "            <td>ramella</td>\n",
    "            <td>125000</td>\n",
    "        </tr>\n",
    "    </table>\n",
    "    <div>\n",
    "        this is content within container\n",
    "    </div>\n",
    "    <p id=\"first_paragraph\">this is a paragraph</p>\n",
    "    <p>this is a second paragraph</p>\n",
    "<img src=\"https://i.discogs.com/MOq_bSnT_UXz1OQVw0ryf_gnYlvSvw4UPcrT16F2rI8/rs:fit/g:sm/q:90/h:600/w:600/czM6Ly9kaXNjb2dz/LWRhdGFiYXNlLWlt/YWdlcy9BLTI2MzMx/MzAtMTMzNTcyMDM5/MC5wbmc.jpeg\" alt=\"Girl in a jacket\" width=\"500\" height=\"600\">\n",
    "</body>\n",
    "</html>"
   ]
  },
  {
   "cell_type": "code",
   "execution_count": null,
   "id": "dd418a58",
   "metadata": {},
   "outputs": [],
   "source": []
  }
 ],
 "metadata": {
  "kernelspec": {
   "display_name": "Python 3 (ipykernel)",
   "language": "python",
   "name": "python3"
  },
  "language_info": {
   "codemirror_mode": {
    "name": "ipython",
    "version": 3
   },
   "file_extension": ".py",
   "mimetype": "text/x-python",
   "name": "python",
   "nbconvert_exporter": "python",
   "pygments_lexer": "ipython3",
   "version": "3.9.12"
  },
  "nbTranslate": {
   "displayLangs": [
    "*"
   ],
   "hotkey": "alt-t",
   "langInMainMenu": true,
   "sourceLang": "en",
   "targetLang": "fr",
   "useGoogleTranslate": true
  },
  "toc": {
   "base_numbering": 1,
   "nav_menu": {},
   "number_sections": true,
   "sideBar": true,
   "skip_h1_title": false,
   "title_cell": "Table of Contents",
   "title_sidebar": "Contents",
   "toc_cell": false,
   "toc_position": {},
   "toc_section_display": true,
   "toc_window_display": false
  },
  "varInspector": {
   "cols": {
    "lenName": 16,
    "lenType": 16,
    "lenVar": 40
   },
   "kernels_config": {
    "python": {
     "delete_cmd_postfix": "",
     "delete_cmd_prefix": "del ",
     "library": "var_list.py",
     "varRefreshCmd": "print(var_dic_list())"
    },
    "r": {
     "delete_cmd_postfix": ") ",
     "delete_cmd_prefix": "rm(",
     "library": "var_list.r",
     "varRefreshCmd": "cat(var_dic_list()) "
    }
   },
   "types_to_exclude": [
    "module",
    "function",
    "builtin_function_or_method",
    "instance",
    "_Feature"
   ],
   "window_display": false
  }
 },
 "nbformat": 4,
 "nbformat_minor": 5
}
