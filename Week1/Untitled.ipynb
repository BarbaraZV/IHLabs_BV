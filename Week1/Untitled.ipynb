{
 "cells": [
  {
   "cell_type": "code",
   "execution_count": 6,
   "id": "24aceeb0",
   "metadata": {},
   "outputs": [],
   "source": [
    "from random import choice"
   ]
  },
  {
   "cell_type": "code",
   "execution_count": 7,
   "id": "b517f6e7",
   "metadata": {},
   "outputs": [],
   "source": [
    "gestures = ['rock','paper','scissors']"
   ]
  },
  {
   "cell_type": "code",
   "execution_count": 8,
   "id": "59080936",
   "metadata": {},
   "outputs": [
    {
     "name": "stdout",
     "output_type": "stream",
     "text": [
      "How many rounds you want to play? (Hint: should be an odd number) >>>   3\n",
      "Alrighty! Let's play  3  rounds.\n"
     ]
    }
   ],
   "source": [
    "n_rounds = input(\"How many rounds you want to play? (Hint: should be an odd number) >>>   \")\n",
    "try:\n",
    "    n_rounds = int(n_rounds)\n",
    "    if n_rounds % 2 == 0:\n",
    "        print(\"That is so NOT an odd number...\")\n",
    "        n_rounds = 0\n",
    "    elif n_rounds > 10:\n",
    "        print(\"I have places to be. Let's try less than 10, buddy.\")\n",
    "        n_rounds = 0\n",
    "    else:\n",
    "        print(\"Alrighty! Let's play \", int(n_rounds), \" rounds.\")\n",
    "except ValueError:\n",
    "    print(\"To play \", n_rounds, \" rounds we'd have to slice your hand in pieces, honey.\")\n",
    "    n_rounds = 0"
   ]
  },
  {
   "cell_type": "code",
   "execution_count": 9,
   "id": "f89610f0",
   "metadata": {},
   "outputs": [],
   "source": [
    "import math\n",
    "rounds_to_win = math.ceil(n_rounds/2)"
   ]
  },
  {
   "cell_type": "code",
   "execution_count": 10,
   "id": "9d4ed757",
   "metadata": {},
   "outputs": [],
   "source": [
    "cpu_score = 0\n",
    "player_score = 0"
   ]
  },
  {
   "cell_type": "code",
   "execution_count": 11,
   "id": "ef8719c4",
   "metadata": {},
   "outputs": [],
   "source": [
    "### w should be the list of posible gestures\n",
    "def T800(w):\n",
    "    return choice(w);"
   ]
  },
  {
   "cell_type": "code",
   "execution_count": 16,
   "id": "4b976b2b",
   "metadata": {},
   "outputs": [
    {
     "ename": "SyntaxError",
     "evalue": "'return' outside function (2142332317.py, line 7)",
     "output_type": "error",
     "traceback": [
      "\u001b[1;36m  Input \u001b[1;32mIn [16]\u001b[1;36m\u001b[0m\n\u001b[1;33m    return playa\u001b[0m\n\u001b[1;37m    ^\u001b[0m\n\u001b[1;31mSyntaxError\u001b[0m\u001b[1;31m:\u001b[0m 'return' outside function\n"
     ]
    }
   ],
   "source": [
    "### x should also be the gesture options\n",
    "#def shand(gesture_option):\n",
    "playa = 0\n",
    "while playa == 0:\n",
    "    playa = input(\"Please choose wisely: \" + str(x) + \" >>>    \")\n",
    "    if playa in gesture_option:\n",
    "        return playa\n",
    "    else:\n",
    "        print(\"You heathen. Play by the rules.\")\n",
    "        playa = 0"
   ]
  },
  {
   "cell_type": "code",
   "execution_count": 13,
   "id": "deadffef",
   "metadata": {},
   "outputs": [],
   "source": [
    "sheldon = {'rock':['scissors'], 'paper':['rock'], 'scissors':['paper']}\n",
    "### y should be the winning dictionary\n",
    "def winner(y):\n",
    "    outcome = 2\n",
    "    if playa == lava_thumb:\n",
    "        outcome = 0\n",
    "    elif playa in y[lava_thumb]:\n",
    "        outcome = 1\n",
    "    return outcome"
   ]
  },
  {
   "cell_type": "code",
   "execution_count": 14,
   "id": "eadaa3b8",
   "metadata": {},
   "outputs": [],
   "source": [
    "### z should be the outcome of the 'winner' function\n",
    "def roundin(z):\n",
    "    resultat = {0:'Tie!',1:'I won.',2:'You won.'}\n",
    "    print('You chose ' + playa)\n",
    "    print('I chose ' + lava_thumb)\n",
    "    print(resultat[z])"
   ]
  },
  {
   "cell_type": "code",
   "execution_count": 15,
   "id": "9519eb2e",
   "metadata": {},
   "outputs": [
    {
     "name": "stdout",
     "output_type": "stream",
     "text": [
      "Please choose wisely: ['rock', 'paper', 'scissors'] >>>    rock\n",
      "You chose rock\n",
      "I chose rock\n",
      "Tie!\n",
      "Please choose wisely: ['rock', 'paper', 'scissors'] >>>    scissors\n",
      "You chose scissors\n",
      "I chose scissors\n",
      "Tie!\n",
      "Please choose wisely: ['rock', 'paper', 'scissors'] >>>    scissors\n",
      "You chose scissors\n",
      "I chose paper\n",
      "You won.\n"
     ]
    }
   ],
   "source": [
    "rounds_done = 0\n",
    "while rounds_done < n_rounds and cpu_score < rounds_to_win and player_score < rounds_to_win:\n",
    "    playa = shand(gestures)\n",
    "    lava_thumb = T800(gestures)\n",
    "    outcome = winner(sheldon)\n",
    "    roundin(outcome)\n",
    "    rounds_done += 1\n",
    "    if outcome == 1:\n",
    "        cpu_score += 1\n",
    "    elif outcome == 2:\n",
    "        player_score += 1"
   ]
  },
  {
   "cell_type": "code",
   "execution_count": null,
   "id": "24b94ea2",
   "metadata": {},
   "outputs": [],
   "source": []
  }
 ],
 "metadata": {
  "kernelspec": {
   "display_name": "Python 3 (ipykernel)",
   "language": "python",
   "name": "python3"
  },
  "language_info": {
   "codemirror_mode": {
    "name": "ipython",
    "version": 3
   },
   "file_extension": ".py",
   "mimetype": "text/x-python",
   "name": "python",
   "nbconvert_exporter": "python",
   "pygments_lexer": "ipython3",
   "version": "3.9.12"
  }
 },
 "nbformat": 4,
 "nbformat_minor": 5
}
